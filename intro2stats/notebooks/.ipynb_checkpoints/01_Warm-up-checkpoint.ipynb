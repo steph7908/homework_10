{
 "cells": [
  {
   "cell_type": "markdown",
   "metadata": {},
   "source": [
    "> **SOMETIMES THE QUESTIONS ARE COMPLICATED AND THE ANSWERS ARE SIMPLE **\n",
    "\n",
    ">*Dr. Seuss*\n",
    "\n",
    "## Coin Toss\n",
    "\n",
    "You toss a coin 30 times and see head 24 times. Is it a fair coin?\n",
    "\n",
    "**Hypothesis 1**: Tossing a fair coin will get you 15 heads in 30 tosses. This coin is biased\n",
    "\n",
    "**Hypothesis 2**: Come on, even a fair coin could show 24 heads in 30 tosses. This is just by chance\n",
    "\n",
    "#### Statistical Method\n",
    "\n",
    "P(H) = ? \n",
    "\n",
    "P(HH) = ?\n",
    "\n",
    "P(THH) = ?\n",
    "\n",
    "Now, slightly tougher : P(2H, 1T) = ?\n",
    "\n",
    "Generalizing, \n",
    "\n",
    "<img style=\"float: left;\" src=\"img/binomial.gif\">\n",
    "\n",
    "<br>\n",
    "<br>\n",
    "<br>\n",
    "<br>\n",
    "\n",
    "\n",
    "**What is the probability of getting 24 heads in 30 tosses ?**\n",
    "\n",
    "It is the probability of getting heads 24 times or more. \n",
    "\n",
    "#### Hacker's Approach\n",
    "\n",
    "Simulation. Run the experiment 100,000 times. Find the percentage of times the experiment returned 24 or more heads. If it is more than 5%, we conclude that the coin is biased. "
   ]
  },
  {
   "cell_type": "code",
   "execution_count": 24,
   "metadata": {},
   "outputs": [
    {
     "name": "stdout",
     "output_type": "stream",
     "text": [
      "Data of the Experiment: [0 0 1 0 0 1 1 0 0 1 1 0 1 0 1 1 0 0 0 1 0 0 1 0 1 1 1 1 1 1]\n",
      "Heads in the Experiment: [1 1 1 1 1 1 1 1 1 1 1 1 1 1 1 1]\n",
      "Number of heads in the experiment: 16\n"
     ]
    }
   ],
   "source": [
    "# Let's try running the experiment one time. If you see any functions you don't recognize, check for documentation/ask Google!\n",
    "# Try running this cell multiple times to see how the output changes\n",
    "\n",
    "import numpy as np  \n",
    "\n",
    "total_tosses = 30\n",
    "num_heads = 24\n",
    "\n",
    "#0 is tail. 1 is heads. Generate one experiment\n",
    "experiment = np.random.randint(0,2,total_tosses)\n",
    "print(\"Data of the Experiment:\", experiment)\n",
    "#Find the number of heads\n",
    "print(\"Heads in the Experiment:\", experiment[experiment==1]) #This will give all the heads in the array\n",
    "head_count = experiment[experiment==1].shape[0] #This will get the count of heads in the array\n",
    "print(\"Number of heads in the experiment:\", head_count)"
   ]
  },
  {
   "cell_type": "code",
   "execution_count": 83,
   "metadata": {},
   "outputs": [],
   "source": [
    "# Now, let's try running the above experiment 100 times.\n",
    "# Write a function that puts the above code in a loop.\n",
    "# Every loop should run one trial of 30 coin flips.\n",
    "# Your function should take 1 input (times_to_repeat) that specifies how many times to repeat the experiment.\n",
    "# Your function should return an output array (head_count) that lists the number of heads in each trial.\n",
    "\n",
    "def coin_toss_experiment(times_to_repeat):\n",
    "    head_count=np.array(range(times_to_repeat))\n",
    "    for i in head_count:\n",
    "        experiment = np.random.randint(0,2,total_tosses)\n",
    "        #print(experiment)\n",
    "        head_count[i] = experiment[experiment==1].shape[0]\n",
    "    return head_count"
   ]
  },
  {
   "cell_type": "code",
   "execution_count": 84,
   "metadata": {},
   "outputs": [],
   "source": [
    "head_count = coin_toss_experiment(100)"
   ]
  },
  {
   "cell_type": "code",
   "execution_count": 85,
   "metadata": {},
   "outputs": [
    {
     "data": {
      "text/plain": [
       "array([13, 16, 15, 18, 19, 18, 16, 10, 16, 15])"
      ]
     },
     "execution_count": 85,
     "metadata": {},
     "output_type": "execute_result"
    }
   ],
   "source": [
    "head_count[:10] "
   ]
  },
  {
   "cell_type": "code",
   "execution_count": 86,
   "metadata": {},
   "outputs": [],
   "source": [
    "#Let's plot the above distribution\n",
    "import matplotlib.pyplot as plt\n",
    "%matplotlib inline\n",
    "import seaborn as sns\n",
    "sns.set(color_codes = True)"
   ]
  },
  {
   "cell_type": "code",
   "execution_count": 89,
   "metadata": {},
   "outputs": [
    {
     "data": {
      "text/plain": [
       "<AxesSubplot:ylabel='Density'>"
      ]
     },
     "execution_count": 89,
     "metadata": {},
     "output_type": "execute_result"
    },
    {
     "data": {
      "image/png": "[encoded data removed]",
      "text/plain": [
       "<Figure size 432x288 with 1 Axes>"
      ]
     },
     "metadata": {},
     "output_type": "display_data"
    }
   ],
   "source": [
    "sns.distplot(head_count, kde=True)"
   ]
  },
  {
   "cell_type": "markdown",
   "metadata": {},
   "source": [
    "**Exercise**: Try setting `kde=True` in the above cell and observe what happens"
   ]
  },
  {
   "cell_type": "code",
   "execution_count": 90,
   "metadata": {},
   "outputs": [
    {
     "data": {
      "text/plain": [
       "array([], dtype=int32)"
      ]
     },
     "execution_count": 90,
     "metadata": {},
     "output_type": "execute_result"
    }
   ],
   "source": [
    "#Number of times the experiment returned 24 heads.\n",
    "head_count[head_count>=24]"
   ]
  },
  {
   "cell_type": "code",
   "execution_count": 91,
   "metadata": {},
   "outputs": [
    {
     "name": "stdout",
     "output_type": "stream",
     "text": [
      "No of times experiment returned 24 heads or more: 0\n",
      "% of times with 24 or more heads:  0.0\n"
     ]
    }
   ],
   "source": [
    "print(\"No of times experiment returned 24 heads or more:\", head_count[head_count>=24].shape[0])\n",
    "print(\"% of times with 24 or more heads: \", head_count[head_count>=24].shape[0]/float(head_count.shape[0])*100)"
   ]
  },
  {
   "cell_type": "markdown",
   "metadata": {},
   "source": [
    "####  Exercise: Repeat the experiment 100,000 times. "
   ]
  },
  {
   "cell_type": "code",
   "execution_count": null,
   "metadata": {},
   "outputs": [],
   "source": [
    "#What % of experiments out of 100,000 have 24 or more heads?"
   ]
  },
  {
   "cell_type": "code",
   "execution_count": 97,
   "metadata": {},
   "outputs": [
    {
     "name": "stdout",
     "output_type": "stream",
     "text": [
      "No of times experiment returned 24 heads or more: 68\n",
      "% of times with 24 or more heads:  0.068\n"
     ]
    }
   ],
   "source": [
    "head_count = coin_toss_experiment(100000)\n",
    "print(\"No of times experiment returned 24 heads or more:\", head_count[head_count>=24].shape[0])\n",
    "print(\"% of times with 24 or more heads: \", head_count[head_count>=24].shape[0]/float(head_count.shape[0])*100)"
   ]
  },
  {
   "cell_type": "markdown",
   "metadata": {},
   "source": [
    "# Is the coin fair?"
   ]
  },
  {
   "cell_type": "code",
   "execution_count": null,
   "metadata": {},
   "outputs": [],
   "source": [
    "#What do you think?"
   ]
  },
  {
   "cell_type": "code",
   "execution_count": 98,
   "metadata": {},
   "outputs": [],
   "source": [
    "# Everytime I ran the coin_toss_experiment for 100,000, the % of times with over 24 heads was always above 5%, so would that make the coin not fair?"
   ]
  },
  {
   "cell_type": "code",
   "execution_count": null,
   "metadata": {},
   "outputs": [],
   "source": []
  }
 ],
 "metadata": {
  "kernelspec": {
   "display_name": "Python 3",
   "language": "python",
   "name": "python3"
  },
  "language_info": {
   "codemirror_mode": {
    "name": "ipython",
    "version": 3
   },
   "file_extension": ".py",
   "mimetype": "text/x-python",
   "name": "python",
   "nbconvert_exporter": "python",
   "pygments_lexer": "ipython3",
   "version": "3.7.8"
  }
 },
 "nbformat": 4,
 "nbformat_minor": 4
}
