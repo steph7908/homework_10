{
 "cells": [
  {
   "cell_type": "markdown",
   "metadata": {},
   "source": [
    "# Anscombe Quartet"
   ]
  },
  {
   "cell_type": "code",
   "execution_count": null,
   "metadata": {},
   "outputs": [],
   "source": [
    "import pandas as pd"
   ]
  },
  {
   "cell_type": "code",
   "execution_count": null,
   "metadata": {},
   "outputs": [],
   "source": [
    "pretty_df = pd.read_csv('anscombe_quartet.csv', header=1)"
   ]
  },
  {
   "cell_type": "code",
   "execution_count": null,
   "metadata": {},
   "outputs": [],
   "source": [
    "pretty_df"
   ]
  },
  {
   "cell_type": "code",
   "execution_count": null,
   "metadata": {},
   "outputs": [],
   "source": [
    "pretty_df.describe()"
   ]
  },
  {
   "cell_type": "code",
   "execution_count": null,
   "metadata": {},
   "outputs": [],
   "source": [
    "df = pd.read_csv('anscombe_data.csv')\n",
    "quadrants = ['I', 'II', 'III', 'IV']\n",
    "df.sample()"
   ]
  },
  {
   "cell_type": "code",
   "execution_count": null,
   "metadata": {},
   "outputs": [],
   "source": [
    "for quad in quadrants:\n",
    "    print(f'Quadrant {quad}'.center(20, '-'))\n",
    "    quad_data = df.loc[df.quadrant == quad, ['x', 'y']]\n",
    "    mean_x, mean_y = quad_data.mean()\n",
    "    var_x, var_y = quad_data.var()\n",
    "    print(f'mean of x = {mean_x:.2f}')\n",
    "    print(f'mean of y = {mean_y:.2f}')    \n",
    "    print(f'variance of x = {var_x:.3f}')\n",
    "    print(f'variance of y = {var_y:.3f}')\n",
    "    print(f'correlation of x and y = {quad_data.x.corr(quad_data.y):.3f}')\n",
    "    print()"
   ]
  },
  {
   "cell_type": "code",
   "execution_count": null,
   "metadata": {},
   "outputs": [],
   "source": [
    "# fit linear regression\n",
    "from sklearn.linear_model import LinearRegression\n",
    "from sklearn.metrics import r2_score"
   ]
  },
  {
   "cell_type": "code",
   "execution_count": null,
   "metadata": {},
   "outputs": [],
   "source": [
    "for quad in quadrants:\n",
    "    print(f'Quadrant {quad}'.center(20, '-'))\n",
    "    quad_data = df.loc[df.quadrant == quad, ['x', 'y']]\n",
    "    reg = LinearRegression()\n",
    "    # reshape x data to 11x1 column vector that sklearn requires\n",
    "    x_data_that_sklearn_likes = quad_data.x.to_numpy().reshape(-1, 1) \n",
    "    y_data = quad_data.y\n",
    "    reg.fit(x_data_that_sklearn_likes, y_data)\n",
    "    y_hat = reg.predict(x_data_that_sklearn_likes)\n",
    "    print('best fit linear regression is:')\n",
    "    print(f'    y = {reg.coef_[0]:.3f} x + {reg.intercept_:.2f}')\n",
    "    print('r2 score = ', round(r2_score(y_data, y_hat), 3))     \n",
    "    print()"
   ]
  },
  {
   "cell_type": "markdown",
   "metadata": {},
   "source": [
    "# Conclusion: Data is Generally the Same? "
   ]
  }
 ],
 "metadata": {
  "kernelspec": {
   "display_name": "Python 3",
   "language": "python",
   "name": "python3"
  },
  "language_info": {
   "codemirror_mode": {
    "name": "ipython",
    "version": 3
   },
   "file_extension": ".py",
   "mimetype": "text/x-python",
   "name": "python",
   "nbconvert_exporter": "python",
   "pygments_lexer": "ipython3",
   "version": "3.8.5"
  }
 },
 "nbformat": 4,
 "nbformat_minor": 4
}
